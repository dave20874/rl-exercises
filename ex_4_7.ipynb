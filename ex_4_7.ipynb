{
  "nbformat": 4,
  "nbformat_minor": 0,
  "metadata": {
    "colab": {
      "name": "ex-4.7.ipynb",
      "provenance": [],
      "authorship_tag": "ABX9TyPuVQmaawynZLKwz10DWnHD",
      "include_colab_link": true
    },
    "kernelspec": {
      "name": "python3",
      "display_name": "Python 3"
    },
    "language_info": {
      "name": "python"
    }
  },
  "cells": [
    {
      "cell_type": "markdown",
      "metadata": {
        "id": "view-in-github",
        "colab_type": "text"
      },
      "source": [
        "<a href=\"https://colab.research.google.com/github/dave20874/rl-exercises/blob/main/ex_4_7.ipynb\" target=\"_parent\"><img src=\"https://colab.research.google.com/assets/colab-badge.svg\" alt=\"Open In Colab\"/></a>"
      ]
    },
    {
      "cell_type": "markdown",
      "source": [
        "Exercise 4.7 from Sutton and Barto"
      ],
      "metadata": {
        "id": "Izaf739z8Q60"
      }
    },
    {
      "cell_type": "code",
      "execution_count": null,
      "metadata": {
        "id": "mB8n7zpk8BAd"
      },
      "outputs": [],
      "source": [
        "%matplotlib inline\n",
        "\n",
        "from matplotlib import pyplot as plt \n",
        "from numpy import random\n",
        "\n"
      ]
    },
    {
      "cell_type": "markdown",
      "source": [
        "Class to implement Dynamic Programming Policy Iteration"
      ],
      "metadata": {
        "id": "EZ9KZDxW_BdM"
      }
    },
    {
      "cell_type": "code",
      "source": [
        "# TODO: Policy Iteration\n",
        "class PolicyGenerator:\n",
        "  def __init__(self, mdp):\n",
        "    self.mdp = mdp"
      ],
      "metadata": {
        "id": "NEyqWMdy_ShX"
      },
      "execution_count": null,
      "outputs": []
    },
    {
      "cell_type": "markdown",
      "source": [
        "Class to represent the MDP of exercise 4.7"
      ],
      "metadata": {
        "id": "HicNn3x8_B0b"
      }
    },
    {
      "cell_type": "code",
      "source": [
        "class CarRentalMDP:\n",
        "  def __init__(self, modified=False):\n",
        "    self.lambda_requests_1 = 3.0\n",
        "    self.lambda_requests_2 = 4.0\n",
        "    self.lambda_returns_1 = 3.0\n",
        "    self.lambda_requests_2 = 2.0\n",
        "    self.max_cars = 20\n",
        "    self.max_moves = 5\n",
        "    self.cost_per_move = 2\n",
        "    self.modified = modified\n",
        "\n",
        "  # Return a list of all possible states\n",
        "  def all_states(self):\n",
        "    # State is represented as the number of cars in lot 1 and lot2.\n",
        "    return ((lot, lot2) for lot1 in range(21) for lot2 in range(21)\n",
        "\n",
        "  def all_actions(self, state):\n",
        "    return (n for n in range(-5, 6))\n",
        "\n",
        "  # Give the probability of ending in new_state with reward given \n",
        "  # starting in old_state and performing action.\n",
        "  def probability(self, new_state, reward, old_state, action):\n",
        "    # Accumulate reward, starting from 0\n",
        "    reward = 0\n",
        "\n",
        "    # Start state has the number of cars on each lot at the end of the day\n",
        "    (lot1, lot2) = old_state\n",
        "\n",
        "    # Perform the prescribed action by moving cars\n",
        "    lot2 += action\n",
        "    lot1 -= action\n",
        "    reward -= self.cost_per_move * abs(action)\n",
        "    if self.modified & (action > 0):\n",
        "      # One car moves for free\n",
        "      reward += self.cost_per_move\n",
        "\n",
        "    if self.modified & ((lot1 > self.lot_limit)\n",
        "\n",
        "    pass\n"
      ],
      "metadata": {
        "id": "dlIFChWV_2KN"
      },
      "execution_count": null,
      "outputs": []
    },
    {
      "cell_type": "markdown",
      "source": [
        "Generate the policy for the car rental problem."
      ],
      "metadata": {
        "id": "Y7ZPdvhw_B39"
      }
    },
    {
      "cell_type": "code",
      "source": [
        "mdp = CarRentalMDP()\n",
        "pol_gen = PolicyGenerator(mdp)\n",
        "policy = pol_gen.policy_iteration()"
      ],
      "metadata": {
        "id": "RceWJIoA_Hwb"
      },
      "execution_count": null,
      "outputs": []
    },
    {
      "cell_type": "markdown",
      "source": [
        "Show the policy and value function with charts"
      ],
      "metadata": {
        "id": "1i75sN6RAxdp"
      }
    },
    {
      "cell_type": "code",
      "source": [
        "# TBD\n"
      ],
      "metadata": {
        "id": "lBO6Xl71A7Bt"
      },
      "execution_count": null,
      "outputs": []
    }
  ]
}